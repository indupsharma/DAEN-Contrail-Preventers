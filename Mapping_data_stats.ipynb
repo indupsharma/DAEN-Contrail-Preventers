{
 "cells": [
  {
   "cell_type": "code",
   "execution_count": null,
   "id": "3cfd9df0",
   "metadata": {},
   "outputs": [],
   "source": []
  },
  {
   "cell_type": "code",
   "execution_count": null,
   "id": "10872c4a",
   "metadata": {},
   "outputs": [],
   "source": [
    "############ Mapping data ################"
   ]
  },
  {
   "cell_type": "code",
   "execution_count": 89,
   "id": "fd97cb0a",
   "metadata": {},
   "outputs": [],
   "source": [
    "import pandas as pd\n",
    "import numpy as np\n",
    "import matplotlib.pyplot as plt\n",
    "import seaborn as sns\n",
    "\n",
    "from plotnine import *\n",
    "%matplotlib inline"
   ]
  },
  {
   "cell_type": "code",
   "execution_count": 9,
   "id": "7c520187",
   "metadata": {},
   "outputs": [],
   "source": [
    "import plotnine\n",
    "from plotnine import ggplot, aes, geom_line, geom_point,  scale_x_timedelta, labs, geom_col,scale_fill_brewer, geom_bar, theme,element_text, position_dodge, geom_text\n"
   ]
  },
  {
   "cell_type": "code",
   "execution_count": 2,
   "id": "da5aedfc",
   "metadata": {},
   "outputs": [],
   "source": [
    "mapping = pd.read_csv(\"output_with_preds.csv\")"
   ]
  },
  {
   "cell_type": "code",
   "execution_count": 3,
   "id": "64e42eab",
   "metadata": {},
   "outputs": [
    {
     "data": {
      "text/html": [
       "<div>\n",
       "<style scoped>\n",
       "    .dataframe tbody tr th:only-of-type {\n",
       "        vertical-align: middle;\n",
       "    }\n",
       "\n",
       "    .dataframe tbody tr th {\n",
       "        vertical-align: top;\n",
       "    }\n",
       "\n",
       "    .dataframe thead th {\n",
       "        text-align: right;\n",
       "    }\n",
       "</style>\n",
       "<table border=\"1\" class=\"dataframe\">\n",
       "  <thead>\n",
       "    <tr style=\"text-align: right;\">\n",
       "      <th></th>\n",
       "      <th>file_name</th>\n",
       "      <th>30_pred</th>\n",
       "      <th>50_pred</th>\n",
       "      <th>70_pred</th>\n",
       "      <th>80_pred</th>\n",
       "      <th>90_pred</th>\n",
       "      <th>RH_ICE</th>\n",
       "      <th>TEMP(F)</th>\n",
       "      <th>datetime</th>\n",
       "      <th>date</th>\n",
       "      <th>Time of Day</th>\n",
       "    </tr>\n",
       "  </thead>\n",
       "  <tbody>\n",
       "    <tr>\n",
       "      <th>0</th>\n",
       "      <td>20230222_094422.jpg</td>\n",
       "      <td>0</td>\n",
       "      <td>0</td>\n",
       "      <td>0</td>\n",
       "      <td>0</td>\n",
       "      <td>0</td>\n",
       "      <td>291.185065</td>\n",
       "      <td>-64.3360</td>\n",
       "      <td>2023-02-22 09:44:22</td>\n",
       "      <td>2023-02-22</td>\n",
       "      <td>Daytime</td>\n",
       "    </tr>\n",
       "    <tr>\n",
       "      <th>1</th>\n",
       "      <td>20230222_121823.jpg</td>\n",
       "      <td>1</td>\n",
       "      <td>0</td>\n",
       "      <td>0</td>\n",
       "      <td>0</td>\n",
       "      <td>0</td>\n",
       "      <td>338.441558</td>\n",
       "      <td>-63.6880</td>\n",
       "      <td>2023-02-22 12:18:23</td>\n",
       "      <td>2023-02-22</td>\n",
       "      <td>Daytime</td>\n",
       "    </tr>\n",
       "    <tr>\n",
       "      <th>2</th>\n",
       "      <td>20230222_122010.jpg</td>\n",
       "      <td>0</td>\n",
       "      <td>0</td>\n",
       "      <td>0</td>\n",
       "      <td>0</td>\n",
       "      <td>0</td>\n",
       "      <td>338.441558</td>\n",
       "      <td>-63.6880</td>\n",
       "      <td>2023-02-22 12:20:10</td>\n",
       "      <td>2023-02-22</td>\n",
       "      <td>Daytime</td>\n",
       "    </tr>\n",
       "    <tr>\n",
       "      <th>3</th>\n",
       "      <td>20230222_124035.jpg</td>\n",
       "      <td>0</td>\n",
       "      <td>0</td>\n",
       "      <td>0</td>\n",
       "      <td>0</td>\n",
       "      <td>0</td>\n",
       "      <td>338.441558</td>\n",
       "      <td>-63.6880</td>\n",
       "      <td>2023-02-22 12:40:35</td>\n",
       "      <td>2023-02-22</td>\n",
       "      <td>Daytime</td>\n",
       "    </tr>\n",
       "    <tr>\n",
       "      <th>4</th>\n",
       "      <td>20230222_124132.jpg</td>\n",
       "      <td>0</td>\n",
       "      <td>0</td>\n",
       "      <td>0</td>\n",
       "      <td>0</td>\n",
       "      <td>0</td>\n",
       "      <td>338.441558</td>\n",
       "      <td>-63.6880</td>\n",
       "      <td>2023-02-22 12:41:32</td>\n",
       "      <td>2023-02-22</td>\n",
       "      <td>Daytime</td>\n",
       "    </tr>\n",
       "    <tr>\n",
       "      <th>...</th>\n",
       "      <td>...</td>\n",
       "      <td>...</td>\n",
       "      <td>...</td>\n",
       "      <td>...</td>\n",
       "      <td>...</td>\n",
       "      <td>...</td>\n",
       "      <td>...</td>\n",
       "      <td>...</td>\n",
       "      <td>...</td>\n",
       "      <td>...</td>\n",
       "      <td>...</td>\n",
       "    </tr>\n",
       "    <tr>\n",
       "      <th>4229</th>\n",
       "      <td>IMG_20230819_130049.jpg</td>\n",
       "      <td>0</td>\n",
       "      <td>0</td>\n",
       "      <td>0</td>\n",
       "      <td>0</td>\n",
       "      <td>0</td>\n",
       "      <td>69.859307</td>\n",
       "      <td>-55.9875</td>\n",
       "      <td>2023-08-19 13:00:49</td>\n",
       "      <td>2023-08-19</td>\n",
       "      <td>Daytime</td>\n",
       "    </tr>\n",
       "    <tr>\n",
       "      <th>4230</th>\n",
       "      <td>IMG_20230819_140048.jpg</td>\n",
       "      <td>0</td>\n",
       "      <td>0</td>\n",
       "      <td>0</td>\n",
       "      <td>0</td>\n",
       "      <td>0</td>\n",
       "      <td>73.376623</td>\n",
       "      <td>-56.3450</td>\n",
       "      <td>2023-08-19 14:00:48</td>\n",
       "      <td>2023-08-19</td>\n",
       "      <td>Daytime</td>\n",
       "    </tr>\n",
       "    <tr>\n",
       "      <th>4231</th>\n",
       "      <td>IMG_20230819_150049.jpg</td>\n",
       "      <td>0</td>\n",
       "      <td>0</td>\n",
       "      <td>0</td>\n",
       "      <td>0</td>\n",
       "      <td>0</td>\n",
       "      <td>76.893939</td>\n",
       "      <td>-56.7025</td>\n",
       "      <td>2023-08-19 15:00:49</td>\n",
       "      <td>2023-08-19</td>\n",
       "      <td>Daytime</td>\n",
       "    </tr>\n",
       "    <tr>\n",
       "      <th>4232</th>\n",
       "      <td>IMG_20230819_160049.jpg</td>\n",
       "      <td>0</td>\n",
       "      <td>0</td>\n",
       "      <td>0</td>\n",
       "      <td>0</td>\n",
       "      <td>0</td>\n",
       "      <td>80.411255</td>\n",
       "      <td>-57.0600</td>\n",
       "      <td>2023-08-19 16:00:49</td>\n",
       "      <td>2023-08-19</td>\n",
       "      <td>Daytime</td>\n",
       "    </tr>\n",
       "    <tr>\n",
       "      <th>4233</th>\n",
       "      <td>IMG_20230819_170049.jpg</td>\n",
       "      <td>0</td>\n",
       "      <td>0</td>\n",
       "      <td>0</td>\n",
       "      <td>0</td>\n",
       "      <td>0</td>\n",
       "      <td>83.928571</td>\n",
       "      <td>-57.4175</td>\n",
       "      <td>2023-08-19 17:00:49</td>\n",
       "      <td>2023-08-19</td>\n",
       "      <td>Daytime</td>\n",
       "    </tr>\n",
       "  </tbody>\n",
       "</table>\n",
       "<p>4234 rows × 11 columns</p>\n",
       "</div>"
      ],
      "text/plain": [
       "                    file_name  30_pred  50_pred  70_pred  80_pred  90_pred  \\\n",
       "0         20230222_094422.jpg        0        0        0        0        0   \n",
       "1         20230222_121823.jpg        1        0        0        0        0   \n",
       "2         20230222_122010.jpg        0        0        0        0        0   \n",
       "3         20230222_124035.jpg        0        0        0        0        0   \n",
       "4         20230222_124132.jpg        0        0        0        0        0   \n",
       "...                       ...      ...      ...      ...      ...      ...   \n",
       "4229  IMG_20230819_130049.jpg        0        0        0        0        0   \n",
       "4230  IMG_20230819_140048.jpg        0        0        0        0        0   \n",
       "4231  IMG_20230819_150049.jpg        0        0        0        0        0   \n",
       "4232  IMG_20230819_160049.jpg        0        0        0        0        0   \n",
       "4233  IMG_20230819_170049.jpg        0        0        0        0        0   \n",
       "\n",
       "          RH_ICE  TEMP(F)             datetime        date Time of Day  \n",
       "0     291.185065 -64.3360  2023-02-22 09:44:22  2023-02-22     Daytime  \n",
       "1     338.441558 -63.6880  2023-02-22 12:18:23  2023-02-22     Daytime  \n",
       "2     338.441558 -63.6880  2023-02-22 12:20:10  2023-02-22     Daytime  \n",
       "3     338.441558 -63.6880  2023-02-22 12:40:35  2023-02-22     Daytime  \n",
       "4     338.441558 -63.6880  2023-02-22 12:41:32  2023-02-22     Daytime  \n",
       "...          ...      ...                  ...         ...         ...  \n",
       "4229   69.859307 -55.9875  2023-08-19 13:00:49  2023-08-19     Daytime  \n",
       "4230   73.376623 -56.3450  2023-08-19 14:00:48  2023-08-19     Daytime  \n",
       "4231   76.893939 -56.7025  2023-08-19 15:00:49  2023-08-19     Daytime  \n",
       "4232   80.411255 -57.0600  2023-08-19 16:00:49  2023-08-19     Daytime  \n",
       "4233   83.928571 -57.4175  2023-08-19 17:00:49  2023-08-19     Daytime  \n",
       "\n",
       "[4234 rows x 11 columns]"
      ]
     },
     "execution_count": 3,
     "metadata": {},
     "output_type": "execute_result"
    }
   ],
   "source": [
    "mapping"
   ]
  },
  {
   "cell_type": "code",
   "execution_count": 83,
   "id": "5b5229b1",
   "metadata": {},
   "outputs": [
    {
     "data": {
      "text/html": [
       "<div>\n",
       "<style scoped>\n",
       "    .dataframe tbody tr th:only-of-type {\n",
       "        vertical-align: middle;\n",
       "    }\n",
       "\n",
       "    .dataframe tbody tr th {\n",
       "        vertical-align: top;\n",
       "    }\n",
       "\n",
       "    .dataframe thead th {\n",
       "        text-align: right;\n",
       "    }\n",
       "</style>\n",
       "<table border=\"1\" class=\"dataframe\">\n",
       "  <thead>\n",
       "    <tr style=\"text-align: right;\">\n",
       "      <th></th>\n",
       "      <th>30_pred</th>\n",
       "      <th>50_pred</th>\n",
       "      <th>70_pred</th>\n",
       "      <th>80_pred</th>\n",
       "      <th>90_pred</th>\n",
       "      <th>RH_ICE</th>\n",
       "      <th>TEMP(F)</th>\n",
       "      <th>Pred</th>\n",
       "    </tr>\n",
       "  </thead>\n",
       "  <tbody>\n",
       "    <tr>\n",
       "      <th>count</th>\n",
       "      <td>4234.000000</td>\n",
       "      <td>4234.000000</td>\n",
       "      <td>4234.000000</td>\n",
       "      <td>4234.000000</td>\n",
       "      <td>4234.0</td>\n",
       "      <td>4234.000000</td>\n",
       "      <td>4234.000000</td>\n",
       "      <td>4234.000000</td>\n",
       "    </tr>\n",
       "    <tr>\n",
       "      <th>mean</th>\n",
       "      <td>0.090458</td>\n",
       "      <td>0.058573</td>\n",
       "      <td>0.030231</td>\n",
       "      <td>0.009920</td>\n",
       "      <td>0.0</td>\n",
       "      <td>205.362892</td>\n",
       "      <td>-61.549213</td>\n",
       "      <td>0.189183</td>\n",
       "    </tr>\n",
       "    <tr>\n",
       "      <th>std</th>\n",
       "      <td>0.286871</td>\n",
       "      <td>0.234852</td>\n",
       "      <td>0.171244</td>\n",
       "      <td>0.099114</td>\n",
       "      <td>0.0</td>\n",
       "      <td>145.061143</td>\n",
       "      <td>9.088620</td>\n",
       "      <td>0.671632</td>\n",
       "    </tr>\n",
       "    <tr>\n",
       "      <th>min</th>\n",
       "      <td>0.000000</td>\n",
       "      <td>0.000000</td>\n",
       "      <td>0.000000</td>\n",
       "      <td>0.000000</td>\n",
       "      <td>0.0</td>\n",
       "      <td>-278.170996</td>\n",
       "      <td>-94.389835</td>\n",
       "      <td>0.000000</td>\n",
       "    </tr>\n",
       "    <tr>\n",
       "      <th>25%</th>\n",
       "      <td>0.000000</td>\n",
       "      <td>0.000000</td>\n",
       "      <td>0.000000</td>\n",
       "      <td>0.000000</td>\n",
       "      <td>0.0</td>\n",
       "      <td>87.861008</td>\n",
       "      <td>-68.836696</td>\n",
       "      <td>0.000000</td>\n",
       "    </tr>\n",
       "    <tr>\n",
       "      <th>50%</th>\n",
       "      <td>0.000000</td>\n",
       "      <td>0.000000</td>\n",
       "      <td>0.000000</td>\n",
       "      <td>0.000000</td>\n",
       "      <td>0.0</td>\n",
       "      <td>195.755986</td>\n",
       "      <td>-62.011817</td>\n",
       "      <td>0.000000</td>\n",
       "    </tr>\n",
       "    <tr>\n",
       "      <th>75%</th>\n",
       "      <td>0.000000</td>\n",
       "      <td>0.000000</td>\n",
       "      <td>0.000000</td>\n",
       "      <td>0.000000</td>\n",
       "      <td>0.0</td>\n",
       "      <td>308.476283</td>\n",
       "      <td>-54.684924</td>\n",
       "      <td>0.000000</td>\n",
       "    </tr>\n",
       "    <tr>\n",
       "      <th>max</th>\n",
       "      <td>1.000000</td>\n",
       "      <td>1.000000</td>\n",
       "      <td>1.000000</td>\n",
       "      <td>1.000000</td>\n",
       "      <td>0.0</td>\n",
       "      <td>807.894120</td>\n",
       "      <td>-26.293214</td>\n",
       "      <td>4.000000</td>\n",
       "    </tr>\n",
       "  </tbody>\n",
       "</table>\n",
       "</div>"
      ],
      "text/plain": [
       "           30_pred      50_pred      70_pred      80_pred  90_pred  \\\n",
       "count  4234.000000  4234.000000  4234.000000  4234.000000   4234.0   \n",
       "mean      0.090458     0.058573     0.030231     0.009920      0.0   \n",
       "std       0.286871     0.234852     0.171244     0.099114      0.0   \n",
       "min       0.000000     0.000000     0.000000     0.000000      0.0   \n",
       "25%       0.000000     0.000000     0.000000     0.000000      0.0   \n",
       "50%       0.000000     0.000000     0.000000     0.000000      0.0   \n",
       "75%       0.000000     0.000000     0.000000     0.000000      0.0   \n",
       "max       1.000000     1.000000     1.000000     1.000000      0.0   \n",
       "\n",
       "            RH_ICE      TEMP(F)         Pred  \n",
       "count  4234.000000  4234.000000  4234.000000  \n",
       "mean    205.362892   -61.549213     0.189183  \n",
       "std     145.061143     9.088620     0.671632  \n",
       "min    -278.170996   -94.389835     0.000000  \n",
       "25%      87.861008   -68.836696     0.000000  \n",
       "50%     195.755986   -62.011817     0.000000  \n",
       "75%     308.476283   -54.684924     0.000000  \n",
       "max     807.894120   -26.293214     4.000000  "
      ]
     },
     "execution_count": 83,
     "metadata": {},
     "output_type": "execute_result"
    }
   ],
   "source": [
    "mapping.describe()"
   ]
  },
  {
   "cell_type": "code",
   "execution_count": 4,
   "id": "f093557e",
   "metadata": {},
   "outputs": [
    {
     "data": {
      "text/plain": [
       "file_name       object\n",
       "30_pred          int64\n",
       "50_pred          int64\n",
       "70_pred          int64\n",
       "80_pred          int64\n",
       "90_pred          int64\n",
       "RH_ICE         float64\n",
       "TEMP(F)        float64\n",
       "datetime        object\n",
       "date            object\n",
       "Time of Day     object\n",
       "dtype: object"
      ]
     },
     "execution_count": 4,
     "metadata": {},
     "output_type": "execute_result"
    }
   ],
   "source": [
    "mapping.dtypes"
   ]
  },
  {
   "cell_type": "code",
   "execution_count": 5,
   "id": "c049956a",
   "metadata": {},
   "outputs": [
    {
     "name": "stdout",
     "output_type": "stream",
     "text": [
      "file_name      0\n",
      "30_pred        0\n",
      "50_pred        0\n",
      "70_pred        0\n",
      "80_pred        0\n",
      "90_pred        0\n",
      "RH_ICE         0\n",
      "TEMP(F)        0\n",
      "datetime       0\n",
      "date           0\n",
      "Time of Day    0\n",
      "dtype: int64\n"
     ]
    }
   ],
   "source": [
    "print(mapping.isnull().sum())"
   ]
  },
  {
   "cell_type": "code",
   "execution_count": 65,
   "id": "27c7275a",
   "metadata": {},
   "outputs": [
    {
     "data": {
      "text/plain": [
       "0.09045819555975437"
      ]
     },
     "execution_count": 65,
     "metadata": {},
     "output_type": "execute_result"
    }
   ],
   "source": [
    "mapping['30_pred'].mean()"
   ]
  },
  {
   "cell_type": "code",
   "execution_count": 66,
   "id": "038a1aa0",
   "metadata": {},
   "outputs": [
    {
     "data": {
      "text/plain": [
       "0.05857345299952763"
      ]
     },
     "execution_count": 66,
     "metadata": {},
     "output_type": "execute_result"
    }
   ],
   "source": [
    "mapping['50_pred'].mean()"
   ]
  },
  {
   "cell_type": "code",
   "execution_count": 67,
   "id": "3a83da1c",
   "metadata": {},
   "outputs": [
    {
     "data": {
      "text/plain": [
       "0.030231459612659425"
      ]
     },
     "execution_count": 67,
     "metadata": {},
     "output_type": "execute_result"
    }
   ],
   "source": [
    "mapping['70_pred'].mean()"
   ]
  },
  {
   "cell_type": "code",
   "execution_count": 68,
   "id": "a60b862d",
   "metadata": {},
   "outputs": [
    {
     "data": {
      "text/plain": [
       "0.009919697685403874"
      ]
     },
     "execution_count": 68,
     "metadata": {},
     "output_type": "execute_result"
    }
   ],
   "source": [
    "mapping['80_pred'].mean()"
   ]
  },
  {
   "cell_type": "code",
   "execution_count": 69,
   "id": "104e4929",
   "metadata": {},
   "outputs": [
    {
     "data": {
      "text/plain": [
       "0.0"
      ]
     },
     "execution_count": 69,
     "metadata": {},
     "output_type": "execute_result"
    }
   ],
   "source": [
    "mapping['90_pred'].mean()"
   ]
  },
  {
   "cell_type": "code",
   "execution_count": 75,
   "id": "d4094da4",
   "metadata": {},
   "outputs": [
    {
     "data": {
      "text/plain": [
       "195.75598616209643"
      ]
     },
     "execution_count": 75,
     "metadata": {},
     "output_type": "execute_result"
    }
   ],
   "source": [
    "mapping['RH_ICE'].median()"
   ]
  },
  {
   "cell_type": "code",
   "execution_count": 76,
   "id": "99678783",
   "metadata": {},
   "outputs": [
    {
     "data": {
      "text/plain": [
       "-62.011816964285686"
      ]
     },
     "execution_count": 76,
     "metadata": {},
     "output_type": "execute_result"
    }
   ],
   "source": [
    "mapping['TEMP(F)'].median()"
   ]
  },
  {
   "cell_type": "code",
   "execution_count": null,
   "id": "08d508a6",
   "metadata": {},
   "outputs": [],
   "source": []
  },
  {
   "cell_type": "code",
   "execution_count": null,
   "id": "b9825258",
   "metadata": {},
   "outputs": [],
   "source": []
  },
  {
   "cell_type": "code",
   "execution_count": 6,
   "id": "eecb6bf4",
   "metadata": {},
   "outputs": [],
   "source": [
    "mapping2 = mapping.groupby(['Time of Day'])['Time of Day'].count().reset_index(name='counts')"
   ]
  },
  {
   "cell_type": "code",
   "execution_count": 7,
   "id": "cf0d9bca",
   "metadata": {},
   "outputs": [
    {
     "data": {
      "text/html": [
       "<div>\n",
       "<style scoped>\n",
       "    .dataframe tbody tr th:only-of-type {\n",
       "        vertical-align: middle;\n",
       "    }\n",
       "\n",
       "    .dataframe tbody tr th {\n",
       "        vertical-align: top;\n",
       "    }\n",
       "\n",
       "    .dataframe thead th {\n",
       "        text-align: right;\n",
       "    }\n",
       "</style>\n",
       "<table border=\"1\" class=\"dataframe\">\n",
       "  <thead>\n",
       "    <tr style=\"text-align: right;\">\n",
       "      <th></th>\n",
       "      <th>Time of Day</th>\n",
       "      <th>counts</th>\n",
       "    </tr>\n",
       "  </thead>\n",
       "  <tbody>\n",
       "    <tr>\n",
       "      <th>0</th>\n",
       "      <td>Daytime</td>\n",
       "      <td>2444</td>\n",
       "    </tr>\n",
       "    <tr>\n",
       "      <th>1</th>\n",
       "      <td>Nighttime</td>\n",
       "      <td>1790</td>\n",
       "    </tr>\n",
       "  </tbody>\n",
       "</table>\n",
       "</div>"
      ],
      "text/plain": [
       "  Time of Day  counts\n",
       "0     Daytime    2444\n",
       "1   Nighttime    1790"
      ]
     },
     "execution_count": 7,
     "metadata": {},
     "output_type": "execute_result"
    }
   ],
   "source": [
    "mapping2"
   ]
  },
  {
   "cell_type": "code",
   "execution_count": 112,
   "id": "c52d0a39",
   "metadata": {},
   "outputs": [
    {
     "data": {
      "image/png": "[encoded data removed]",
      "text/plain": [
       "<Figure size 640x480 with 1 Axes>"
      ]
     },
     "metadata": {},
     "output_type": "display_data"
    },
    {
     "data": {
      "text/plain": [
       "<ggplot: (8793356704531)>"
      ]
     },
     "execution_count": 112,
     "metadata": {},
     "output_type": "execute_result"
    }
   ],
   "source": [
    "ggplot(mapping2, aes('Time of Day', 'counts', fill = 'Time of Day', label = 'counts')) + labs(title=\"Sky Images\", x=\"Time of Day\", y=\"Count of Time of Day\") + geom_bar(stat=\"identity\") + geom_text(size = 8)\n",
    "\n",
    "\n",
    "#mtcars$car = row.names(mtcars)\n",
    "#theme_set(theme_bw())\n",
    "#p = ggplot(mapping, aes(x='Time of Day', y='count', fill='Time of Day')) + geom_col(width = 1, color = \"white\") \n",
    "\n",
    "#p = p + coord_polar() + scale_fill_viridis_c(option = 'C', alpha = .8)\n",
    "    \n",
    "    \n",
    "    \n"
   ]
  },
  {
   "cell_type": "code",
   "execution_count": 30,
   "id": "9053310e",
   "metadata": {},
   "outputs": [],
   "source": [
    "mapping['Pred'] = mapping['30_pred'] + mapping['50_pred'] + mapping['70_pred'] + mapping['80_pred'] + mapping['90_pred']\n",
    "\n"
   ]
  },
  {
   "cell_type": "code",
   "execution_count": 31,
   "id": "da1865ee",
   "metadata": {
    "scrolled": true
   },
   "outputs": [
    {
     "data": {
      "text/html": [
       "<div>\n",
       "<style scoped>\n",
       "    .dataframe tbody tr th:only-of-type {\n",
       "        vertical-align: middle;\n",
       "    }\n",
       "\n",
       "    .dataframe tbody tr th {\n",
       "        vertical-align: top;\n",
       "    }\n",
       "\n",
       "    .dataframe thead th {\n",
       "        text-align: right;\n",
       "    }\n",
       "</style>\n",
       "<table border=\"1\" class=\"dataframe\">\n",
       "  <thead>\n",
       "    <tr style=\"text-align: right;\">\n",
       "      <th></th>\n",
       "      <th>30_pred</th>\n",
       "      <th>50_pred</th>\n",
       "      <th>70_pred</th>\n",
       "      <th>80_pred</th>\n",
       "      <th>90_pred</th>\n",
       "    </tr>\n",
       "  </thead>\n",
       "  <tbody>\n",
       "    <tr>\n",
       "      <th>0</th>\n",
       "      <td>0</td>\n",
       "      <td>0</td>\n",
       "      <td>0</td>\n",
       "      <td>0</td>\n",
       "      <td>0</td>\n",
       "    </tr>\n",
       "    <tr>\n",
       "      <th>1</th>\n",
       "      <td>1</td>\n",
       "      <td>0</td>\n",
       "      <td>0</td>\n",
       "      <td>0</td>\n",
       "      <td>0</td>\n",
       "    </tr>\n",
       "    <tr>\n",
       "      <th>2</th>\n",
       "      <td>0</td>\n",
       "      <td>0</td>\n",
       "      <td>0</td>\n",
       "      <td>0</td>\n",
       "      <td>0</td>\n",
       "    </tr>\n",
       "    <tr>\n",
       "      <th>3</th>\n",
       "      <td>0</td>\n",
       "      <td>0</td>\n",
       "      <td>0</td>\n",
       "      <td>0</td>\n",
       "      <td>0</td>\n",
       "    </tr>\n",
       "    <tr>\n",
       "      <th>4</th>\n",
       "      <td>0</td>\n",
       "      <td>0</td>\n",
       "      <td>0</td>\n",
       "      <td>0</td>\n",
       "      <td>0</td>\n",
       "    </tr>\n",
       "    <tr>\n",
       "      <th>...</th>\n",
       "      <td>...</td>\n",
       "      <td>...</td>\n",
       "      <td>...</td>\n",
       "      <td>...</td>\n",
       "      <td>...</td>\n",
       "    </tr>\n",
       "    <tr>\n",
       "      <th>4229</th>\n",
       "      <td>0</td>\n",
       "      <td>0</td>\n",
       "      <td>0</td>\n",
       "      <td>0</td>\n",
       "      <td>0</td>\n",
       "    </tr>\n",
       "    <tr>\n",
       "      <th>4230</th>\n",
       "      <td>0</td>\n",
       "      <td>0</td>\n",
       "      <td>0</td>\n",
       "      <td>0</td>\n",
       "      <td>0</td>\n",
       "    </tr>\n",
       "    <tr>\n",
       "      <th>4231</th>\n",
       "      <td>0</td>\n",
       "      <td>0</td>\n",
       "      <td>0</td>\n",
       "      <td>0</td>\n",
       "      <td>0</td>\n",
       "    </tr>\n",
       "    <tr>\n",
       "      <th>4232</th>\n",
       "      <td>0</td>\n",
       "      <td>0</td>\n",
       "      <td>0</td>\n",
       "      <td>0</td>\n",
       "      <td>0</td>\n",
       "    </tr>\n",
       "    <tr>\n",
       "      <th>4233</th>\n",
       "      <td>0</td>\n",
       "      <td>0</td>\n",
       "      <td>0</td>\n",
       "      <td>0</td>\n",
       "      <td>0</td>\n",
       "    </tr>\n",
       "  </tbody>\n",
       "</table>\n",
       "<p>4234 rows × 5 columns</p>\n",
       "</div>"
      ],
      "text/plain": [
       "      30_pred  50_pred  70_pred  80_pred  90_pred\n",
       "0           0        0        0        0        0\n",
       "1           1        0        0        0        0\n",
       "2           0        0        0        0        0\n",
       "3           0        0        0        0        0\n",
       "4           0        0        0        0        0\n",
       "...       ...      ...      ...      ...      ...\n",
       "4229        0        0        0        0        0\n",
       "4230        0        0        0        0        0\n",
       "4231        0        0        0        0        0\n",
       "4232        0        0        0        0        0\n",
       "4233        0        0        0        0        0\n",
       "\n",
       "[4234 rows x 5 columns]"
      ]
     },
     "execution_count": 31,
     "metadata": {},
     "output_type": "execute_result"
    }
   ],
   "source": [
    "mappingPred"
   ]
  },
  {
   "cell_type": "code",
   "execution_count": 38,
   "id": "5d126d2a",
   "metadata": {},
   "outputs": [
    {
     "data": {
      "image/png": "[encoded data removed]",
      "text/plain": [
       "<Figure size 576x216 with 1 Axes>"
      ]
     },
     "metadata": {},
     "output_type": "display_data"
    }
   ],
   "source": [
    "sns.boxplot( x=\"Pred\", hue = \"Pred\", data=mapping ).set_title(\"Prediction\");\n",
    "mp.show()"
   ]
  },
  {
   "cell_type": "code",
   "execution_count": 111,
   "id": "977b251b",
   "metadata": {},
   "outputs": [
    {
     "data": {
      "text/plain": [
       "<Axes: xlabel='Pred', ylabel='count'>"
      ]
     },
     "execution_count": 111,
     "metadata": {},
     "output_type": "execute_result"
    },
    {
     "data": {
      "image/png": "[encoded data removed]",
      "text/plain": [
       "<Figure size 1152x576 with 1 Axes>"
      ]
     },
     "metadata": {},
     "output_type": "display_data"
    }
   ],
   "source": [
    "#ggplot(mapping)+aes(x='Pred')+geom_bar(fill = 'steelblue')\n",
    "#ggplot(mapping, aes('Pred', 'RH_ICE', label = 'Pred')) + labs(title=\"Predictions count\", x=\"Pred's\", y=\"Count of Preds\") + geom_bar(stat=\"identity\") + geom_text(size = 8)\n",
    "\n",
    "#sns.set(rc = {'figure.figsize':(16,8)})\n",
    "sns.countplot(x=\"Pred\", data=mapping)\n",
    "\n"
   ]
  },
  {
   "cell_type": "raw",
   "id": "f5cccfb0",
   "metadata": {},
   "source": []
  },
  {
   "cell_type": "code",
   "execution_count": 64,
   "id": "9a54c8ab",
   "metadata": {},
   "outputs": [
    {
     "data": {
      "image/png": "[encoded data removed]",
      "text/plain": [
       "<Figure size 640x480 with 1 Axes>"
      ]
     },
     "metadata": {},
     "output_type": "display_data"
    },
    {
     "data": {
      "text/plain": [
       "<ggplot: (8793249288831)>"
      ]
     },
     "execution_count": 64,
     "metadata": {},
     "output_type": "execute_result"
    }
   ],
   "source": [
    "ggplot(mapping, aes(x='RH_ICE', y='date')) + geom_line()+labs(title=\"RH_Ice\",x=\"RH_ICE\", y=\"Count of Altitude\")\n"
   ]
  },
  {
   "cell_type": "code",
   "execution_count": 115,
   "id": "f3e53700",
   "metadata": {},
   "outputs": [
    {
     "data": {
      "text/html": [
       "<div>\n",
       "<style scoped>\n",
       "    .dataframe tbody tr th:only-of-type {\n",
       "        vertical-align: middle;\n",
       "    }\n",
       "\n",
       "    .dataframe tbody tr th {\n",
       "        vertical-align: top;\n",
       "    }\n",
       "\n",
       "    .dataframe thead th {\n",
       "        text-align: right;\n",
       "    }\n",
       "</style>\n",
       "<table border=\"1\" class=\"dataframe\">\n",
       "  <thead>\n",
       "    <tr style=\"text-align: right;\">\n",
       "      <th></th>\n",
       "      <th>30_pred</th>\n",
       "      <th>50_pred</th>\n",
       "      <th>70_pred</th>\n",
       "      <th>80_pred</th>\n",
       "      <th>90_pred</th>\n",
       "      <th>RH_ICE</th>\n",
       "      <th>TEMP(F)</th>\n",
       "      <th>Pred</th>\n",
       "    </tr>\n",
       "  </thead>\n",
       "  <tbody>\n",
       "    <tr>\n",
       "      <th>30_pred</th>\n",
       "      <td>1.000000</td>\n",
       "      <td>0.790942</td>\n",
       "      <td>0.559864</td>\n",
       "      <td>0.317396</td>\n",
       "      <td>NaN</td>\n",
       "      <td>0.043161</td>\n",
       "      <td>-0.113121</td>\n",
       "      <td>0.893282</td>\n",
       "    </tr>\n",
       "    <tr>\n",
       "      <th>50_pred</th>\n",
       "      <td>0.790942</td>\n",
       "      <td>1.000000</td>\n",
       "      <td>0.707845</td>\n",
       "      <td>0.401289</td>\n",
       "      <td>NaN</td>\n",
       "      <td>0.047019</td>\n",
       "      <td>-0.116458</td>\n",
       "      <td>0.927201</td>\n",
       "    </tr>\n",
       "    <tr>\n",
       "      <th>70_pred</th>\n",
       "      <td>0.559864</td>\n",
       "      <td>0.707845</td>\n",
       "      <td>1.000000</td>\n",
       "      <td>0.566916</td>\n",
       "      <td>NaN</td>\n",
       "      <td>0.035462</td>\n",
       "      <td>-0.090703</td>\n",
       "      <td>0.825275</td>\n",
       "    </tr>\n",
       "    <tr>\n",
       "      <th>80_pred</th>\n",
       "      <td>0.317396</td>\n",
       "      <td>0.401289</td>\n",
       "      <td>0.566916</td>\n",
       "      <td>1.000000</td>\n",
       "      <td>NaN</td>\n",
       "      <td>0.029191</td>\n",
       "      <td>-0.057604</td>\n",
       "      <td>0.568004</td>\n",
       "    </tr>\n",
       "    <tr>\n",
       "      <th>90_pred</th>\n",
       "      <td>NaN</td>\n",
       "      <td>NaN</td>\n",
       "      <td>NaN</td>\n",
       "      <td>NaN</td>\n",
       "      <td>NaN</td>\n",
       "      <td>NaN</td>\n",
       "      <td>NaN</td>\n",
       "      <td>NaN</td>\n",
       "    </tr>\n",
       "    <tr>\n",
       "      <th>RH_ICE</th>\n",
       "      <td>0.043161</td>\n",
       "      <td>0.047019</td>\n",
       "      <td>0.035462</td>\n",
       "      <td>0.029191</td>\n",
       "      <td>NaN</td>\n",
       "      <td>1.000000</td>\n",
       "      <td>-0.268729</td>\n",
       "      <td>0.048226</td>\n",
       "    </tr>\n",
       "    <tr>\n",
       "      <th>TEMP(F)</th>\n",
       "      <td>-0.113121</td>\n",
       "      <td>-0.116458</td>\n",
       "      <td>-0.090703</td>\n",
       "      <td>-0.057604</td>\n",
       "      <td>NaN</td>\n",
       "      <td>-0.268729</td>\n",
       "      <td>1.000000</td>\n",
       "      <td>-0.120666</td>\n",
       "    </tr>\n",
       "    <tr>\n",
       "      <th>Pred</th>\n",
       "      <td>0.893282</td>\n",
       "      <td>0.927201</td>\n",
       "      <td>0.825275</td>\n",
       "      <td>0.568004</td>\n",
       "      <td>NaN</td>\n",
       "      <td>0.048226</td>\n",
       "      <td>-0.120666</td>\n",
       "      <td>1.000000</td>\n",
       "    </tr>\n",
       "  </tbody>\n",
       "</table>\n",
       "</div>"
      ],
      "text/plain": [
       "          30_pred   50_pred   70_pred   80_pred  90_pred    RH_ICE   TEMP(F)  \\\n",
       "30_pred  1.000000  0.790942  0.559864  0.317396      NaN  0.043161 -0.113121   \n",
       "50_pred  0.790942  1.000000  0.707845  0.401289      NaN  0.047019 -0.116458   \n",
       "70_pred  0.559864  0.707845  1.000000  0.566916      NaN  0.035462 -0.090703   \n",
       "80_pred  0.317396  0.401289  0.566916  1.000000      NaN  0.029191 -0.057604   \n",
       "90_pred       NaN       NaN       NaN       NaN      NaN       NaN       NaN   \n",
       "RH_ICE   0.043161  0.047019  0.035462  0.029191      NaN  1.000000 -0.268729   \n",
       "TEMP(F) -0.113121 -0.116458 -0.090703 -0.057604      NaN -0.268729  1.000000   \n",
       "Pred     0.893282  0.927201  0.825275  0.568004      NaN  0.048226 -0.120666   \n",
       "\n",
       "             Pred  \n",
       "30_pred  0.893282  \n",
       "50_pred  0.927201  \n",
       "70_pred  0.825275  \n",
       "80_pred  0.568004  \n",
       "90_pred       NaN  \n",
       "RH_ICE   0.048226  \n",
       "TEMP(F) -0.120666  \n",
       "Pred     1.000000  "
      ]
     },
     "execution_count": 115,
     "metadata": {},
     "output_type": "execute_result"
    }
   ],
   "source": [
    "#correlation between independent variables\n",
    "\n",
    "corr_matrix = mapping.corr()\n",
    "corr_matrix"
   ]
  },
  {
   "cell_type": "code",
   "execution_count": 116,
   "id": "bf434928",
   "metadata": {},
   "outputs": [
    {
     "name": "stderr",
     "output_type": "stream",
     "text": [
      "/Users/indusharma/opt/anaconda3/lib/python3.9/site-packages/seaborn/matrix.py:256: FutureWarning: Format strings passed to MaskedConstant are ignored, but in future may error or produce different behavior\n"
     ]
    },
    {
     "data": {
      "image/png": "[encoded data removed]",
      "text/plain": [
       "<Figure size 1080x720 with 2 Axes>"
      ]
     },
     "metadata": {},
     "output_type": "display_data"
    }
   ],
   "source": [
    "#plotting the corr matrix using seaborn heat map\n",
    "corr_matrix = mapping.corr()\n",
    "fig, heatmp = plt.subplots(figsize=(15,10))\n",
    "heatmp = sns.heatmap(corr_matrix, annot=True, linewidth=0.5, fmt='.2f')"
   ]
  },
  {
   "cell_type": "code",
   "execution_count": 117,
   "id": "f14cb5cc",
   "metadata": {},
   "outputs": [
    {
     "data": {
      "text/html": [
       "<div>\n",
       "<style scoped>\n",
       "    .dataframe tbody tr th:only-of-type {\n",
       "        vertical-align: middle;\n",
       "    }\n",
       "\n",
       "    .dataframe tbody tr th {\n",
       "        vertical-align: top;\n",
       "    }\n",
       "\n",
       "    .dataframe thead th {\n",
       "        text-align: right;\n",
       "    }\n",
       "</style>\n",
       "<table border=\"1\" class=\"dataframe\">\n",
       "  <thead>\n",
       "    <tr style=\"text-align: right;\">\n",
       "      <th></th>\n",
       "      <th>file_name</th>\n",
       "      <th>30_pred</th>\n",
       "      <th>50_pred</th>\n",
       "      <th>70_pred</th>\n",
       "      <th>80_pred</th>\n",
       "      <th>90_pred</th>\n",
       "      <th>RH_ICE</th>\n",
       "      <th>TEMP(F)</th>\n",
       "      <th>datetime</th>\n",
       "      <th>date</th>\n",
       "      <th>Time of Day</th>\n",
       "      <th>Pred</th>\n",
       "    </tr>\n",
       "  </thead>\n",
       "  <tbody>\n",
       "    <tr>\n",
       "      <th>0</th>\n",
       "      <td>20230222_094422.jpg</td>\n",
       "      <td>0</td>\n",
       "      <td>0</td>\n",
       "      <td>0</td>\n",
       "      <td>0</td>\n",
       "      <td>0</td>\n",
       "      <td>291.185065</td>\n",
       "      <td>-64.3360</td>\n",
       "      <td>2023-02-22 09:44:22</td>\n",
       "      <td>2023-02-22</td>\n",
       "      <td>Daytime</td>\n",
       "      <td>0</td>\n",
       "    </tr>\n",
       "    <tr>\n",
       "      <th>1</th>\n",
       "      <td>20230222_121823.jpg</td>\n",
       "      <td>1</td>\n",
       "      <td>0</td>\n",
       "      <td>0</td>\n",
       "      <td>0</td>\n",
       "      <td>0</td>\n",
       "      <td>338.441558</td>\n",
       "      <td>-63.6880</td>\n",
       "      <td>2023-02-22 12:18:23</td>\n",
       "      <td>2023-02-22</td>\n",
       "      <td>Daytime</td>\n",
       "      <td>1</td>\n",
       "    </tr>\n",
       "    <tr>\n",
       "      <th>2</th>\n",
       "      <td>20230222_122010.jpg</td>\n",
       "      <td>0</td>\n",
       "      <td>0</td>\n",
       "      <td>0</td>\n",
       "      <td>0</td>\n",
       "      <td>0</td>\n",
       "      <td>338.441558</td>\n",
       "      <td>-63.6880</td>\n",
       "      <td>2023-02-22 12:20:10</td>\n",
       "      <td>2023-02-22</td>\n",
       "      <td>Daytime</td>\n",
       "      <td>0</td>\n",
       "    </tr>\n",
       "    <tr>\n",
       "      <th>3</th>\n",
       "      <td>20230222_124035.jpg</td>\n",
       "      <td>0</td>\n",
       "      <td>0</td>\n",
       "      <td>0</td>\n",
       "      <td>0</td>\n",
       "      <td>0</td>\n",
       "      <td>338.441558</td>\n",
       "      <td>-63.6880</td>\n",
       "      <td>2023-02-22 12:40:35</td>\n",
       "      <td>2023-02-22</td>\n",
       "      <td>Daytime</td>\n",
       "      <td>0</td>\n",
       "    </tr>\n",
       "    <tr>\n",
       "      <th>4</th>\n",
       "      <td>20230222_124132.jpg</td>\n",
       "      <td>0</td>\n",
       "      <td>0</td>\n",
       "      <td>0</td>\n",
       "      <td>0</td>\n",
       "      <td>0</td>\n",
       "      <td>338.441558</td>\n",
       "      <td>-63.6880</td>\n",
       "      <td>2023-02-22 12:41:32</td>\n",
       "      <td>2023-02-22</td>\n",
       "      <td>Daytime</td>\n",
       "      <td>0</td>\n",
       "    </tr>\n",
       "    <tr>\n",
       "      <th>...</th>\n",
       "      <td>...</td>\n",
       "      <td>...</td>\n",
       "      <td>...</td>\n",
       "      <td>...</td>\n",
       "      <td>...</td>\n",
       "      <td>...</td>\n",
       "      <td>...</td>\n",
       "      <td>...</td>\n",
       "      <td>...</td>\n",
       "      <td>...</td>\n",
       "      <td>...</td>\n",
       "      <td>...</td>\n",
       "    </tr>\n",
       "    <tr>\n",
       "      <th>4229</th>\n",
       "      <td>IMG_20230819_130049.jpg</td>\n",
       "      <td>0</td>\n",
       "      <td>0</td>\n",
       "      <td>0</td>\n",
       "      <td>0</td>\n",
       "      <td>0</td>\n",
       "      <td>69.859307</td>\n",
       "      <td>-55.9875</td>\n",
       "      <td>2023-08-19 13:00:49</td>\n",
       "      <td>2023-08-19</td>\n",
       "      <td>Daytime</td>\n",
       "      <td>0</td>\n",
       "    </tr>\n",
       "    <tr>\n",
       "      <th>4230</th>\n",
       "      <td>IMG_20230819_140048.jpg</td>\n",
       "      <td>0</td>\n",
       "      <td>0</td>\n",
       "      <td>0</td>\n",
       "      <td>0</td>\n",
       "      <td>0</td>\n",
       "      <td>73.376623</td>\n",
       "      <td>-56.3450</td>\n",
       "      <td>2023-08-19 14:00:48</td>\n",
       "      <td>2023-08-19</td>\n",
       "      <td>Daytime</td>\n",
       "      <td>0</td>\n",
       "    </tr>\n",
       "    <tr>\n",
       "      <th>4231</th>\n",
       "      <td>IMG_20230819_150049.jpg</td>\n",
       "      <td>0</td>\n",
       "      <td>0</td>\n",
       "      <td>0</td>\n",
       "      <td>0</td>\n",
       "      <td>0</td>\n",
       "      <td>76.893939</td>\n",
       "      <td>-56.7025</td>\n",
       "      <td>2023-08-19 15:00:49</td>\n",
       "      <td>2023-08-19</td>\n",
       "      <td>Daytime</td>\n",
       "      <td>0</td>\n",
       "    </tr>\n",
       "    <tr>\n",
       "      <th>4232</th>\n",
       "      <td>IMG_20230819_160049.jpg</td>\n",
       "      <td>0</td>\n",
       "      <td>0</td>\n",
       "      <td>0</td>\n",
       "      <td>0</td>\n",
       "      <td>0</td>\n",
       "      <td>80.411255</td>\n",
       "      <td>-57.0600</td>\n",
       "      <td>2023-08-19 16:00:49</td>\n",
       "      <td>2023-08-19</td>\n",
       "      <td>Daytime</td>\n",
       "      <td>0</td>\n",
       "    </tr>\n",
       "    <tr>\n",
       "      <th>4233</th>\n",
       "      <td>IMG_20230819_170049.jpg</td>\n",
       "      <td>0</td>\n",
       "      <td>0</td>\n",
       "      <td>0</td>\n",
       "      <td>0</td>\n",
       "      <td>0</td>\n",
       "      <td>83.928571</td>\n",
       "      <td>-57.4175</td>\n",
       "      <td>2023-08-19 17:00:49</td>\n",
       "      <td>2023-08-19</td>\n",
       "      <td>Daytime</td>\n",
       "      <td>0</td>\n",
       "    </tr>\n",
       "  </tbody>\n",
       "</table>\n",
       "<p>4234 rows × 12 columns</p>\n",
       "</div>"
      ],
      "text/plain": [
       "                    file_name  30_pred  50_pred  70_pred  80_pred  90_pred  \\\n",
       "0         20230222_094422.jpg        0        0        0        0        0   \n",
       "1         20230222_121823.jpg        1        0        0        0        0   \n",
       "2         20230222_122010.jpg        0        0        0        0        0   \n",
       "3         20230222_124035.jpg        0        0        0        0        0   \n",
       "4         20230222_124132.jpg        0        0        0        0        0   \n",
       "...                       ...      ...      ...      ...      ...      ...   \n",
       "4229  IMG_20230819_130049.jpg        0        0        0        0        0   \n",
       "4230  IMG_20230819_140048.jpg        0        0        0        0        0   \n",
       "4231  IMG_20230819_150049.jpg        0        0        0        0        0   \n",
       "4232  IMG_20230819_160049.jpg        0        0        0        0        0   \n",
       "4233  IMG_20230819_170049.jpg        0        0        0        0        0   \n",
       "\n",
       "          RH_ICE  TEMP(F)             datetime        date Time of Day  Pred  \n",
       "0     291.185065 -64.3360  2023-02-22 09:44:22  2023-02-22     Daytime     0  \n",
       "1     338.441558 -63.6880  2023-02-22 12:18:23  2023-02-22     Daytime     1  \n",
       "2     338.441558 -63.6880  2023-02-22 12:20:10  2023-02-22     Daytime     0  \n",
       "3     338.441558 -63.6880  2023-02-22 12:40:35  2023-02-22     Daytime     0  \n",
       "4     338.441558 -63.6880  2023-02-22 12:41:32  2023-02-22     Daytime     0  \n",
       "...          ...      ...                  ...         ...         ...   ...  \n",
       "4229   69.859307 -55.9875  2023-08-19 13:00:49  2023-08-19     Daytime     0  \n",
       "4230   73.376623 -56.3450  2023-08-19 14:00:48  2023-08-19     Daytime     0  \n",
       "4231   76.893939 -56.7025  2023-08-19 15:00:49  2023-08-19     Daytime     0  \n",
       "4232   80.411255 -57.0600  2023-08-19 16:00:49  2023-08-19     Daytime     0  \n",
       "4233   83.928571 -57.4175  2023-08-19 17:00:49  2023-08-19     Daytime     0  \n",
       "\n",
       "[4234 rows x 12 columns]"
      ]
     },
     "execution_count": 117,
     "metadata": {},
     "output_type": "execute_result"
    }
   ],
   "source": [
    "mapping"
   ]
  },
  {
   "cell_type": "code",
   "execution_count": 122,
   "id": "1742bc01",
   "metadata": {},
   "outputs": [],
   "source": [
    "mapping_30 = mapping[['file_name', '30_pred', 'RH_ICE', 'TEMP(F)', 'datetime', 'date', 'Time of Day']]\n",
    "\n",
    "\n"
   ]
  },
  {
   "cell_type": "code",
   "execution_count": 123,
   "id": "9f50ab80",
   "metadata": {},
   "outputs": [
    {
     "data": {
      "text/html": [
       "<div>\n",
       "<style scoped>\n",
       "    .dataframe tbody tr th:only-of-type {\n",
       "        vertical-align: middle;\n",
       "    }\n",
       "\n",
       "    .dataframe tbody tr th {\n",
       "        vertical-align: top;\n",
       "    }\n",
       "\n",
       "    .dataframe thead th {\n",
       "        text-align: right;\n",
       "    }\n",
       "</style>\n",
       "<table border=\"1\" class=\"dataframe\">\n",
       "  <thead>\n",
       "    <tr style=\"text-align: right;\">\n",
       "      <th></th>\n",
       "      <th>file_name</th>\n",
       "      <th>30_pred</th>\n",
       "      <th>RH_ICE</th>\n",
       "      <th>TEMP(F)</th>\n",
       "      <th>datetime</th>\n",
       "      <th>date</th>\n",
       "      <th>Time of Day</th>\n",
       "    </tr>\n",
       "  </thead>\n",
       "  <tbody>\n",
       "    <tr>\n",
       "      <th>0</th>\n",
       "      <td>20230222_094422.jpg</td>\n",
       "      <td>0</td>\n",
       "      <td>291.185065</td>\n",
       "      <td>-64.3360</td>\n",
       "      <td>2023-02-22 09:44:22</td>\n",
       "      <td>2023-02-22</td>\n",
       "      <td>Daytime</td>\n",
       "    </tr>\n",
       "    <tr>\n",
       "      <th>1</th>\n",
       "      <td>20230222_121823.jpg</td>\n",
       "      <td>1</td>\n",
       "      <td>338.441558</td>\n",
       "      <td>-63.6880</td>\n",
       "      <td>2023-02-22 12:18:23</td>\n",
       "      <td>2023-02-22</td>\n",
       "      <td>Daytime</td>\n",
       "    </tr>\n",
       "    <tr>\n",
       "      <th>2</th>\n",
       "      <td>20230222_122010.jpg</td>\n",
       "      <td>0</td>\n",
       "      <td>338.441558</td>\n",
       "      <td>-63.6880</td>\n",
       "      <td>2023-02-22 12:20:10</td>\n",
       "      <td>2023-02-22</td>\n",
       "      <td>Daytime</td>\n",
       "    </tr>\n",
       "    <tr>\n",
       "      <th>3</th>\n",
       "      <td>20230222_124035.jpg</td>\n",
       "      <td>0</td>\n",
       "      <td>338.441558</td>\n",
       "      <td>-63.6880</td>\n",
       "      <td>2023-02-22 12:40:35</td>\n",
       "      <td>2023-02-22</td>\n",
       "      <td>Daytime</td>\n",
       "    </tr>\n",
       "    <tr>\n",
       "      <th>4</th>\n",
       "      <td>20230222_124132.jpg</td>\n",
       "      <td>0</td>\n",
       "      <td>338.441558</td>\n",
       "      <td>-63.6880</td>\n",
       "      <td>2023-02-22 12:41:32</td>\n",
       "      <td>2023-02-22</td>\n",
       "      <td>Daytime</td>\n",
       "    </tr>\n",
       "    <tr>\n",
       "      <th>...</th>\n",
       "      <td>...</td>\n",
       "      <td>...</td>\n",
       "      <td>...</td>\n",
       "      <td>...</td>\n",
       "      <td>...</td>\n",
       "      <td>...</td>\n",
       "      <td>...</td>\n",
       "    </tr>\n",
       "    <tr>\n",
       "      <th>4229</th>\n",
       "      <td>IMG_20230819_130049.jpg</td>\n",
       "      <td>0</td>\n",
       "      <td>69.859307</td>\n",
       "      <td>-55.9875</td>\n",
       "      <td>2023-08-19 13:00:49</td>\n",
       "      <td>2023-08-19</td>\n",
       "      <td>Daytime</td>\n",
       "    </tr>\n",
       "    <tr>\n",
       "      <th>4230</th>\n",
       "      <td>IMG_20230819_140048.jpg</td>\n",
       "      <td>0</td>\n",
       "      <td>73.376623</td>\n",
       "      <td>-56.3450</td>\n",
       "      <td>2023-08-19 14:00:48</td>\n",
       "      <td>2023-08-19</td>\n",
       "      <td>Daytime</td>\n",
       "    </tr>\n",
       "    <tr>\n",
       "      <th>4231</th>\n",
       "      <td>IMG_20230819_150049.jpg</td>\n",
       "      <td>0</td>\n",
       "      <td>76.893939</td>\n",
       "      <td>-56.7025</td>\n",
       "      <td>2023-08-19 15:00:49</td>\n",
       "      <td>2023-08-19</td>\n",
       "      <td>Daytime</td>\n",
       "    </tr>\n",
       "    <tr>\n",
       "      <th>4232</th>\n",
       "      <td>IMG_20230819_160049.jpg</td>\n",
       "      <td>0</td>\n",
       "      <td>80.411255</td>\n",
       "      <td>-57.0600</td>\n",
       "      <td>2023-08-19 16:00:49</td>\n",
       "      <td>2023-08-19</td>\n",
       "      <td>Daytime</td>\n",
       "    </tr>\n",
       "    <tr>\n",
       "      <th>4233</th>\n",
       "      <td>IMG_20230819_170049.jpg</td>\n",
       "      <td>0</td>\n",
       "      <td>83.928571</td>\n",
       "      <td>-57.4175</td>\n",
       "      <td>2023-08-19 17:00:49</td>\n",
       "      <td>2023-08-19</td>\n",
       "      <td>Daytime</td>\n",
       "    </tr>\n",
       "  </tbody>\n",
       "</table>\n",
       "<p>4234 rows × 7 columns</p>\n",
       "</div>"
      ],
      "text/plain": [
       "                    file_name  30_pred      RH_ICE  TEMP(F)  \\\n",
       "0         20230222_094422.jpg        0  291.185065 -64.3360   \n",
       "1         20230222_121823.jpg        1  338.441558 -63.6880   \n",
       "2         20230222_122010.jpg        0  338.441558 -63.6880   \n",
       "3         20230222_124035.jpg        0  338.441558 -63.6880   \n",
       "4         20230222_124132.jpg        0  338.441558 -63.6880   \n",
       "...                       ...      ...         ...      ...   \n",
       "4229  IMG_20230819_130049.jpg        0   69.859307 -55.9875   \n",
       "4230  IMG_20230819_140048.jpg        0   73.376623 -56.3450   \n",
       "4231  IMG_20230819_150049.jpg        0   76.893939 -56.7025   \n",
       "4232  IMG_20230819_160049.jpg        0   80.411255 -57.0600   \n",
       "4233  IMG_20230819_170049.jpg        0   83.928571 -57.4175   \n",
       "\n",
       "                 datetime        date Time of Day  \n",
       "0     2023-02-22 09:44:22  2023-02-22     Daytime  \n",
       "1     2023-02-22 12:18:23  2023-02-22     Daytime  \n",
       "2     2023-02-22 12:20:10  2023-02-22     Daytime  \n",
       "3     2023-02-22 12:40:35  2023-02-22     Daytime  \n",
       "4     2023-02-22 12:41:32  2023-02-22     Daytime  \n",
       "...                   ...         ...         ...  \n",
       "4229  2023-08-19 13:00:49  2023-08-19     Daytime  \n",
       "4230  2023-08-19 14:00:48  2023-08-19     Daytime  \n",
       "4231  2023-08-19 15:00:49  2023-08-19     Daytime  \n",
       "4232  2023-08-19 16:00:49  2023-08-19     Daytime  \n",
       "4233  2023-08-19 17:00:49  2023-08-19     Daytime  \n",
       "\n",
       "[4234 rows x 7 columns]"
      ]
     },
     "execution_count": 123,
     "metadata": {},
     "output_type": "execute_result"
    }
   ],
   "source": [
    "mapping_30"
   ]
  },
  {
   "cell_type": "code",
   "execution_count": 125,
   "id": "751e168d",
   "metadata": {},
   "outputs": [
    {
     "data": {
      "image/png": "[encoded data removed]",
      "text/plain": [
       "<Figure size 1080x720 with 2 Axes>"
      ]
     },
     "metadata": {},
     "output_type": "display_data"
    }
   ],
   "source": [
    "#plotting the corr matrix using seaborn heat map\n",
    "corr_30matrix = mapping_30.corr()\n",
    "fig, heatmp = plt.subplots(figsize=(15,10))\n",
    "heatmp = sns.heatmap(corr_30matrix, cmap=\"YlGnBu\", annot=True, linewidth=0.5, fmt='.2f')"
   ]
  },
  {
   "cell_type": "code",
   "execution_count": 127,
   "id": "bd7fa3e1",
   "metadata": {},
   "outputs": [],
   "source": [
    "mapping_30.to_csv('/Users/indusharma/Library/CloudStorage/OneDrive-GeorgeMasonUniversity-O365Production/Fall 2023/DEAN 690 _ F Brett Berlin/Development/pred_30_file.csv')\n",
    "\n",
    "\n"
   ]
  },
  {
   "cell_type": "code",
   "execution_count": null,
   "id": "000129f0",
   "metadata": {},
   "outputs": [],
   "source": []
  }
 ],
 "metadata": {
  "kernelspec": {
   "display_name": "Python 3 (ipykernel)",
   "language": "python",
   "name": "python3"
  },
  "language_info": {
   "codemirror_mode": {
    "name": "ipython",
    "version": 3
   },
   "file_extension": ".py",
   "mimetype": "text/x-python",
   "name": "python",
   "nbconvert_exporter": "python",
   "pygments_lexer": "ipython3",
   "version": "3.9.12"
  }
 },
 "nbformat": 4,
 "nbformat_minor": 5
}
