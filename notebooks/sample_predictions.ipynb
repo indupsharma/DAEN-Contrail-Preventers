{
 "cells": [
  {
   "cell_type": "code",
   "execution_count": 1,
   "metadata": {},
   "outputs": [],
   "source": [
    "from roboflow import Roboflow"
   ]
  },
  {
   "cell_type": "code",
   "execution_count": 2,
   "metadata": {},
   "outputs": [
    {
     "name": "stdout",
     "output_type": "stream",
     "text": [
      "loading Roboflow workspace...\n",
      "loading Roboflow project...\n"
     ]
    }
   ],
   "source": [
    "rf = Roboflow(api_key=\"zRb8LZg63cFvJMrp0GyO\")\n",
    "project = rf.workspace().project(\"contrails-50-50-object-det.\")\n",
    "model = project.version(2).model"
   ]
  },
  {
   "cell_type": "code",
   "execution_count": 3,
   "metadata": {},
   "outputs": [],
   "source": [
    "def count_object_occurrences(predictions, target_class):\n",
    "    object_count = 0\n",
    "    for prediction in predictions:\n",
    "        if prediction['class'] in target_class:\n",
    "            object_count += 1\n",
    "    return object_count"
   ]
  },
  {
   "cell_type": "code",
   "execution_count": null,
   "metadata": {},
   "outputs": [],
   "source": [
    "predictions = model.predict(r'C:\\Users\\kmebr\\OneDrive\\Pictures\\test_file.jpg', confidence=30, overlap=30)"
   ]
  },
  {
   "cell_type": "code",
   "execution_count": null,
   "metadata": {},
   "outputs": [],
   "source": [
    "cirrus_count = count_object_occurrences(predictions, 'Cirrus')\n",
    "longlived_count = count_object_occurrences(predictions, 'LongLived')"
   ]
  }
 ],
 "metadata": {
  "kernelspec": {
   "display_name": "cnn_project",
   "language": "python",
   "name": "python3"
  },
  "language_info": {
   "codemirror_mode": {
    "name": "ipython",
    "version": 3
   },
   "file_extension": ".py",
   "mimetype": "text/x-python",
   "name": "python",
   "nbconvert_exporter": "python",
   "pygments_lexer": "ipython3",
   "version": "3.10.10"
  },
  "orig_nbformat": 4
 },
 "nbformat": 4,
 "nbformat_minor": 2
}
