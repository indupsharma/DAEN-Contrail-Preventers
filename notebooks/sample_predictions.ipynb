{
 "cells": [
  {
   "cell_type": "code",
   "execution_count": 1,
   "metadata": {},
   "outputs": [],
   "source": [
    "from roboflow import Roboflow"
   ]
  },
  {
   "cell_type": "code",
   "execution_count": 2,
   "metadata": {},
   "outputs": [
    {
     "name": "stdout",
     "output_type": "stream",
     "text": [
      "loading Roboflow workspace...\n",
      "loading Roboflow project...\n"
     ]
    }
   ],
   "source": [
    "rf = Roboflow(api_key=\"zRb8LZg63cFvJMrp0GyO\")\n",
    "project = rf.workspace().project(\"contrails-50-50-object-det.\")\n",
    "model = project.version(2).model"
   ]
  },
  {
   "cell_type": "code",
   "execution_count": 3,
   "metadata": {},
   "outputs": [],
   "source": [
    "def count_object_occurrences(predictions, target_class):\n",
    "    object_count = 0\n",
    "    for prediction in predictions:\n",
    "        if prediction['class'] in target_class:\n",
    "            object_count += 1\n",
    "    return object_count"
   ]
  },
  {
   "cell_type": "code",
   "execution_count": 8,
   "metadata": {},
   "outputs": [
    {
     "name": "stdout",
     "output_type": "stream",
     "text": [
      "['20230222_094422.jpg', '20230222_121823.jpg', '20230222_122010.jpg', '20230222_124035.jpg', '20230222_124132.jpg']\n"
     ]
    }
   ],
   "source": [
    "import os\n",
    "fp = r'C:\\Users\\kmebr\\Documents\\data_analytics_project_fall_2023\\DAEN-Contrail-Preventers\\data\\images/'\n",
    "files = os.listdir(fp)\n",
    "print(files[:5])"
   ]
  },
  {
   "cell_type": "code",
   "execution_count": 16,
   "metadata": {},
   "outputs": [],
   "source": [
    "data = []\n",
    "for file in files:\n",
    "    temp = [file]\n",
    "    for conf in [30, 50, 70, 80, 90]:\n",
    "        pred = model.predict((fp+file), confidence=conf, overlap=30)\n",
    "        temp.append(pred)\n",
    "        if count_object_occurrences(pred, 'Cirrus') + count_object_occurrences(pred, 'LongLived') != 0:\n",
    "            temp.append(1)\n",
    "        else:\n",
    "            temp.append(0)\n",
    "    data.append(temp)"
   ]
  },
  {
   "cell_type": "code",
   "execution_count": null,
   "metadata": {},
   "outputs": [],
   "source": []
  }
 ],
 "metadata": {
  "kernelspec": {
   "display_name": "cnn_project",
   "language": "python",
   "name": "python3"
  },
  "language_info": {
   "codemirror_mode": {
    "name": "ipython",
    "version": 3
   },
   "file_extension": ".py",
   "mimetype": "text/x-python",
   "name": "python",
   "nbconvert_exporter": "python",
   "pygments_lexer": "ipython3",
   "version": "3.10.10"
  },
  "orig_nbformat": 4
 },
 "nbformat": 4,
 "nbformat_minor": 2
}
